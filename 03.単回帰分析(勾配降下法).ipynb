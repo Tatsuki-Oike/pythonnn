{
 "cells": [
  {
   "cell_type": "markdown",
   "metadata": {},
   "source": [
    "# 2 ライブラリとデータの作成"
   ]
  },
  {
   "cell_type": "code",
   "execution_count": 1,
   "metadata": {},
   "outputs": [],
   "source": [
    "import numpy as np\n",
    "import matplotlib.pyplot as plt\n",
    "np.random.seed(1)"
   ]
  },
  {
   "cell_type": "code",
   "execution_count": 2,
   "metadata": {},
   "outputs": [],
   "source": [
    "x_train = np.random.normal(5, 1, 10)\n",
    "t_train = 3*x_train + 2 + np.random.randn(10)\n",
    "# x_train = (x_train - x_train.mean())/x_train.std()\n",
    "# t_train = (t_train - t_train.mean())/t_train.std()"
   ]
  },
  {
   "cell_type": "code",
   "execution_count": 3,
   "metadata": {},
   "outputs": [
    {
     "data": {
      "text/plain": [
       "<matplotlib.collections.PathCollection at 0x7f8859eb64c0>"
      ]
     },
     "execution_count": 3,
     "metadata": {},
     "output_type": "execute_result"
    },
    {
     "data": {
      "image/png": "[encoded data removed]",
      "text/plain": [
       "<Figure size 432x288 with 1 Axes>"
      ]
     },
     "metadata": {
      "needs_background": "light"
     },
     "output_type": "display_data"
    }
   ],
   "source": [
    "plt.scatter(x_train,t_train)"
   ]
  },
  {
   "cell_type": "markdown",
   "metadata": {},
   "source": [
    "# 3 モデル"
   ]
  },
  {
   "cell_type": "code",
   "execution_count": 4,
   "metadata": {},
   "outputs": [],
   "source": [
    "def model(x ,w, b):\n",
    "    y = w*x + b\n",
    "    return y"
   ]
  },
  {
   "cell_type": "code",
   "execution_count": 5,
   "metadata": {},
   "outputs": [],
   "source": [
    "def loss(y, t):\n",
    "    L = sum((y-t)**2) / len(t)\n",
    "    return L"
   ]
  },
  {
   "cell_type": "code",
   "execution_count": 6,
   "metadata": {},
   "outputs": [],
   "source": [
    "def optimizer(x, y, t, w, b, lr):\n",
    "    \n",
    "    dy = 2*(y-t) / len(t)\n",
    "    dw = np.dot(dy, x)\n",
    "    db = dy.sum()\n",
    "    \n",
    "    w = w - lr*dw\n",
    "    b = b - lr*db\n",
    "    \n",
    "    return (w,b)"
   ]
  },
  {
   "cell_type": "markdown",
   "metadata": {},
   "source": [
    "# 4 モデルの学習"
   ]
  },
  {
   "cell_type": "code",
   "execution_count": 7,
   "metadata": {},
   "outputs": [
    {
     "name": "stdout",
     "output_type": "stream",
     "text": [
      "Epoch 1, Loss 198.3846\n",
      "Epoch 2, Loss 44.7832\n",
      "Epoch 3, Loss 10.5703\n",
      "Epoch 4, Loss 2.9496\n",
      "Epoch 5, Loss 1.2518\n",
      "Epoch 6, Loss 0.8734\n",
      "Epoch 7, Loss 0.7887\n",
      "Epoch 8, Loss 0.7696\n",
      "Epoch 9, Loss 0.7650\n",
      "Epoch 10, Loss 0.7636\n"
     ]
    }
   ],
   "source": [
    "w,b = 0.5, 0.5\n",
    "\n",
    "for epoch in range(1, 10 + 1):\n",
    "    \n",
    "    y = model(x_train, w, b)\n",
    "    loss_train = loss(y, t_train)\n",
    "        \n",
    "    w,b = optimizer(x_train, y, t_train, w, b, lr=1e-2)\n",
    "\n",
    "    print(f\"Epoch {epoch}, Loss {loss_train:.4f}\")"
   ]
  },
  {
   "cell_type": "markdown",
   "metadata": {},
   "source": [
    "# 5 結果の可視化"
   ]
  },
  {
   "cell_type": "code",
   "execution_count": 8,
   "metadata": {},
   "outputs": [
    {
     "data": {
      "text/plain": [
       "<matplotlib.collections.PathCollection at 0x7f8868b61610>"
      ]
     },
     "execution_count": 8,
     "metadata": {},
     "output_type": "execute_result"
    },
    {
     "data": {
      "image/png": "[encoded data removed]",
      "text/plain": [
       "<Figure size 432x288 with 1 Axes>"
      ]
     },
     "metadata": {
      "needs_background": "light"
     },
     "output_type": "display_data"
    }
   ],
   "source": [
    "x = np.arange(2,8)\n",
    "y = model(x, w, b)\n",
    "plt.plot(x, y)\n",
    "plt.scatter(x_train, t_train)"
   ]
  }
 ],
 "metadata": {
  "kernelspec": {
   "display_name": "Python 3",
   "language": "python",
   "name": "python3"
  },
  "language_info": {
   "codemirror_mode": {
    "name": "ipython",
    "version": 3
   },
   "file_extension": ".py",
   "mimetype": "text/x-python",
   "name": "python",
   "nbconvert_exporter": "python",
   "pygments_lexer": "ipython3",
   "version": "3.8.5"
  }
 },
 "nbformat": 4,
 "nbformat_minor": 4
}
