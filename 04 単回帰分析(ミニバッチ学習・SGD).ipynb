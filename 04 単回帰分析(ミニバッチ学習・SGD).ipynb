{
 "cells": [
  {
   "cell_type": "markdown",
   "metadata": {},
   "source": [
    "# 2 ライブラリとミニバッチ学習"
   ]
  },
  {
   "cell_type": "code",
   "execution_count": 1,
   "metadata": {},
   "outputs": [],
   "source": [
    "import numpy as np\n",
    "import matplotlib.pyplot as plt\n",
    "np.random.seed(1)"
   ]
  },
  {
   "cell_type": "code",
   "execution_count": 2,
   "metadata": {},
   "outputs": [
    {
     "data": {
      "text/plain": [
       "array([ 0,  1,  2,  3,  4,  5,  6,  7,  8,  9, 10, 11, 12, 13, 14, 15, 16,\n",
       "       17, 18, 19, 20, 21, 22, 23, 24, 25, 26, 27, 28, 29, 30, 31, 32, 33,\n",
       "       34, 35, 36, 37, 38, 39, 40, 41, 42, 43, 44, 45, 46, 47, 48, 49, 50,\n",
       "       51, 52, 53, 54, 55, 56, 57, 58, 59, 60, 61, 62, 63, 64, 65, 66, 67,\n",
       "       68, 69, 70, 71, 72, 73, 74, 75, 76, 77, 78, 79, 80, 81, 82, 83, 84,\n",
       "       85, 86, 87, 88, 89, 90, 91, 92, 93, 94, 95, 96, 97, 98, 99])"
      ]
     },
     "execution_count": 2,
     "metadata": {},
     "output_type": "execute_result"
    }
   ],
   "source": [
    "data = np.arange(100)\n",
    "data"
   ]
  },
  {
   "cell_type": "code",
   "execution_count": 3,
   "metadata": {},
   "outputs": [
    {
     "name": "stdout",
     "output_type": "stream",
     "text": [
      "Epoch 0\n",
      "[80 84 33 81 93 17 36 82 69 65 92 39 56 52 51 32 31 44 78 10]\n",
      "[ 2 73 97 62 19 35 94 27 46 38 67 99 54 95 88 40 48 59 23 34]\n",
      "[86 53 77 15 83 41 45 91 26 98 43 55 24  4 58 49 21 87  3 74]\n",
      "[30 66 70 42 47 89  8 60  0 90 57 22 61 63  7 96 13 68 85 14]\n",
      "[29 28 11 18 20 50 25  6 71 76  1 16 64 79  5 75  9 72 12 37]\n",
      "Epoch 1\n",
      "[83  9 84 40 94 39 23 11  6 81 43 80 38 31 45 66 46 55 99 69]\n",
      "[91 93 12 21 85  3 65 18  4 27 60 88 74 72 29 51 86 10 70 64]\n",
      "[35 42 90 98 95 76 59 14 49 71 77 44 17 32 47 26 34  7  8 37]\n",
      "[97 78 53 22 58 25 75 63 30 89 56 54 20 19 28 62 92 52 87  0]\n",
      "[41  1 48 67  2 15  5 79 61 68 82 96 73 16 13 33 57 50 24 36]\n",
      "Epoch 2\n",
      "[33 63 57 54  9 41 36 76 17 18 50 22 96 56 98 80 59 13 93 68]\n",
      "[78 86  7 82  8 81 38 99 27 46 44  3 23 31 89 12 61 35 51 34]\n",
      "[92 19 83 94 55 37 75 53 24 43 90 25 21 71 62 39 64 30 70 79]\n",
      "[10  1 87 40 20 15 29 97 14 32 11 65 69 45 60 66 95 91 85 58]\n",
      "[42  0 77 52  5 16  6 28 73 88 48 26  4 74 47 49 67  2 84 72]\n"
     ]
    }
   ],
   "source": [
    "batch_size = 20\n",
    "batch_n = len(data) // batch_size\n",
    "batch_index = np.arange(len(data))\n",
    "\n",
    "for epoch in range(3):\n",
    "    np.random.shuffle(batch_index)\n",
    "    print(f\"Epoch {epoch}\") \n",
    "    \n",
    "    for n in range(batch_n):        \n",
    "        mb_index = batch_index[n*batch_size:(n+1)*batch_size]\n",
    "        print(data[mb_index])"
   ]
  },
  {
   "cell_type": "markdown",
   "metadata": {},
   "source": [
    "# 3 データの作成"
   ]
  },
  {
   "cell_type": "code",
   "execution_count": 4,
   "metadata": {},
   "outputs": [],
   "source": [
    "x_train = np.random.normal(5, 1, 100)\n",
    "t_train = 2 + 3*x_train + np.random.randn(100)\n",
    "# x_train = (x_train - x_train.mean())/x_train.std()\n",
    "# t_train = (t_train - t_train.mean())/t_train.std()"
   ]
  },
  {
   "cell_type": "code",
   "execution_count": 5,
   "metadata": {},
   "outputs": [
    {
     "data": {
      "text/plain": [
       "<matplotlib.collections.PathCollection at 0x7fcd28529520>"
      ]
     },
     "execution_count": 5,
     "metadata": {},
     "output_type": "execute_result"
    },
    {
     "data": {
      "image/png": "[encoded data removed]",
      "text/plain": [
       "<Figure size 432x288 with 1 Axes>"
      ]
     },
     "metadata": {
      "needs_background": "light"
     },
     "output_type": "display_data"
    }
   ],
   "source": [
    "plt.scatter(x_train,t_train)"
   ]
  },
  {
   "cell_type": "markdown",
   "metadata": {},
   "source": [
    "# 4 モデル"
   ]
  },
  {
   "cell_type": "code",
   "execution_count": 6,
   "metadata": {},
   "outputs": [],
   "source": [
    "def model(x ,w, b):\n",
    "    y = w*x + b\n",
    "    return y"
   ]
  },
  {
   "cell_type": "code",
   "execution_count": 7,
   "metadata": {},
   "outputs": [],
   "source": [
    "def loss(y, t):\n",
    "    L = sum((y-t)**2) / len(t)\n",
    "    return L"
   ]
  },
  {
   "cell_type": "code",
   "execution_count": 8,
   "metadata": {},
   "outputs": [],
   "source": [
    "def optimizer(x, y, t, w, b, lr):\n",
    "    dL = 2*(y-t) / len(t)\n",
    "    dw = np.dot(dL, x)\n",
    "    db = dL.sum()\n",
    "    w = w - lr*dw\n",
    "    b = b - lr*db\n",
    "    return (w,b)"
   ]
  },
  {
   "cell_type": "markdown",
   "metadata": {},
   "source": [
    "# 5 モデルの学習(ミニバッチ学習・SGD)"
   ]
  },
  {
   "cell_type": "code",
   "execution_count": 9,
   "metadata": {},
   "outputs": [
    {
     "name": "stdout",
     "output_type": "stream",
     "text": [
      "Epoch 1, Loss 138.7087\n",
      "Epoch 20, Loss 0.9417\n",
      "Epoch 40, Loss 1.0191\n",
      "Epoch 60, Loss 0.6701\n",
      "Epoch 80, Loss 0.9781\n",
      "Epoch 100, Loss 1.7295\n"
     ]
    }
   ],
   "source": [
    "w,b = 0.5, 0.5\n",
    "\n",
    "batch_size = 20\n",
    "batch_n = len(x_train) // batch_size\n",
    "batch_index = np.arange(len(x_train))\n",
    "\n",
    "loss_all = []\n",
    "\n",
    "for epoch in range(1, 100 + 1):\n",
    "    \n",
    "    np.random.shuffle(batch_index)\n",
    "    \n",
    "    for n in range(batch_n):\n",
    "        mb_index = batch_index[n*batch_size:(n+1)*batch_size]\n",
    "        y = model(x_train[mb_index], w, b)\n",
    "        loss_train = loss(y, t_train[mb_index])\n",
    "        \n",
    "        w,b =optimizer(x_train[mb_index], y, t_train[mb_index], w, b, lr=1e-3)\n",
    "    \n",
    "    loss_all.append(loss_train)\n",
    "\n",
    "    if epoch == 1 or epoch % 20 == 0:\n",
    "        print(f\"Epoch {epoch}, Loss {loss_train:.4f}\")"
   ]
  },
  {
   "cell_type": "markdown",
   "metadata": {},
   "source": [
    "# 6 結果の可視化"
   ]
  },
  {
   "cell_type": "code",
   "execution_count": 10,
   "metadata": {},
   "outputs": [
    {
     "data": {
      "text/plain": [
       "[<matplotlib.lines.Line2D at 0x7fcd5a3f2070>]"
      ]
     },
     "execution_count": 10,
     "metadata": {},
     "output_type": "execute_result"
    },
    {
     "data": {
      "image/png": "[encoded data removed]",
      "text/plain": [
       "<Figure size 432x288 with 1 Axes>"
      ]
     },
     "metadata": {
      "needs_background": "light"
     },
     "output_type": "display_data"
    }
   ],
   "source": [
    "plt.plot(range(1,len(loss_all)+1), loss_all)"
   ]
  },
  {
   "cell_type": "code",
   "execution_count": 11,
   "metadata": {},
   "outputs": [
    {
     "data": {
      "text/plain": [
       "<matplotlib.collections.PathCollection at 0x7fcd5a3f2d30>"
      ]
     },
     "execution_count": 11,
     "metadata": {},
     "output_type": "execute_result"
    },
    {
     "data": {
      "image/png": "[encoded data removed]",
      "text/plain": [
       "<Figure size 432x288 with 1 Axes>"
      ]
     },
     "metadata": {
      "needs_background": "light"
     },
     "output_type": "display_data"
    }
   ],
   "source": [
    "x = np.arange(2,9)\n",
    "y = model(x,w,b)\n",
    "plt.plot(x, y, color=\"black\")\n",
    "plt.scatter(x_train, t_train)"
   ]
  }
 ],
 "metadata": {
  "kernelspec": {
   "display_name": "Python 3",
   "language": "python",
   "name": "python3"
  },
  "language_info": {
   "codemirror_mode": {
    "name": "ipython",
    "version": 3
   },
   "file_extension": ".py",
   "mimetype": "text/x-python",
   "name": "python",
   "nbconvert_exporter": "python",
   "pygments_lexer": "ipython3",
   "version": "3.8.5"
  }
 },
 "nbformat": 4,
 "nbformat_minor": 4
}
