{
 "cells": [
  {
   "cell_type": "markdown",
   "metadata": {},
   "source": [
    "# 2 BatchNorm"
   ]
  },
  {
   "cell_type": "code",
   "execution_count": 1,
   "metadata": {},
   "outputs": [],
   "source": [
    "import numpy as np\n",
    "np.random.seed(1)"
   ]
  },
  {
   "cell_type": "code",
   "execution_count": 2,
   "metadata": {},
   "outputs": [],
   "source": [
    "class BatchNorm:\n",
    "    def __init__(self, n):\n",
    "        self.w = np.ones(n)\n",
    "        self.b = np.zeros(n)\n",
    "            \n",
    "    def forward(self, x):\n",
    "        self.x = x\n",
    "        self.mu = np.mean(x, axis=0)\n",
    "        self.var = np.var(x, axis=0)\n",
    "        self.z = (x-self.mu)/np.sqrt(self.var + 1e-7)\n",
    "        self.y = self.w*self.z + self.b\n",
    "        return self.y\n",
    "\n",
    "    def backward(self, dy):\n",
    "        self.dw = np.sum(dy*self.z, axis=0)\n",
    "        self.db = np.sum(dy, axis=0)\n",
    "        dz = self.w * dy\n",
    "        dx = dz/np.sqrt(self.var + 1e-7)\n",
    "        dvar = 2*(self.x-self.mu)/len(dy)* -0.5 / \\\n",
    "                (np.sqrt(self.var + 1e-7)**3) *\\\n",
    "                np.sum((self.x-self.mu)*dz, axis=0)\n",
    "        dmu = -np.sum(dx + dvar, axis=0)/len(dy)\n",
    "        self.dx = dx + dvar + dmu\n",
    "        return self.dx"
   ]
  },
  {
   "cell_type": "code",
   "execution_count": 3,
   "metadata": {},
   "outputs": [
    {
     "data": {
      "text/plain": [
       "array([[ 0,  1,  2,  3,  4],\n",
       "       [ 5,  6,  7,  8,  9],\n",
       "       [10, 11, 12, 13, 14]])"
      ]
     },
     "execution_count": 3,
     "metadata": {},
     "output_type": "execute_result"
    }
   ],
   "source": [
    "x = np.arange(15).reshape(3,5)\n",
    "x"
   ]
  },
  {
   "cell_type": "code",
   "execution_count": 4,
   "metadata": {},
   "outputs": [],
   "source": [
    "bn = BatchNorm(5)"
   ]
  },
  {
   "cell_type": "code",
   "execution_count": 5,
   "metadata": {},
   "outputs": [
    {
     "data": {
      "text/plain": [
       "array([[-1.22474487, -1.22474487, -1.22474487, -1.22474487, -1.22474487],\n",
       "       [ 0.        ,  0.        ,  0.        ,  0.        ,  0.        ],\n",
       "       [ 1.22474487,  1.22474487,  1.22474487,  1.22474487,  1.22474487]])"
      ]
     },
     "execution_count": 5,
     "metadata": {},
     "output_type": "execute_result"
    }
   ],
   "source": [
    "y = bn.forward(x)\n",
    "y"
   ]
  },
  {
   "cell_type": "code",
   "execution_count": 6,
   "metadata": {},
   "outputs": [
    {
     "name": "stdout",
     "output_type": "stream",
     "text": [
      "[0. 0. 0. 0. 0.] [1. 1. 1. 1. 1.]\n"
     ]
    }
   ],
   "source": [
    "print(np.mean(y,axis=0), np.std(y,axis=0))"
   ]
  },
  {
   "cell_type": "markdown",
   "metadata": {},
   "source": [
    "# 3 ライブラリとデータ"
   ]
  },
  {
   "cell_type": "markdown",
   "metadata": {},
   "source": [
    "## 3.1 ライブラリとデータ"
   ]
  },
  {
   "cell_type": "code",
   "execution_count": 7,
   "metadata": {},
   "outputs": [],
   "source": [
    "import numpy as np\n",
    "import matplotlib.pyplot as plt\n",
    "from sklearn import datasets\n",
    "from sklearn.model_selection import train_test_split\n",
    "np.random.seed(1)"
   ]
  },
  {
   "cell_type": "code",
   "execution_count": 8,
   "metadata": {},
   "outputs": [],
   "source": [
    "dataset = datasets.load_digits()\n",
    "x = np.asarray(dataset.data)\n",
    "t = np.asarray(dataset.target)"
   ]
  },
  {
   "cell_type": "markdown",
   "metadata": {},
   "source": [
    "## 3.2 データの可視化"
   ]
  },
  {
   "cell_type": "code",
   "execution_count": 9,
   "metadata": {},
   "outputs": [
    {
     "data": {
      "text/plain": [
       "<matplotlib.image.AxesImage at 0x7fce10da2c10>"
      ]
     },
     "execution_count": 9,
     "metadata": {},
     "output_type": "execute_result"
    },
    {
     "data": {
      "image/png": "[encoded data removed]",
      "text/plain": [
       "<Figure size 432x288 with 1 Axes>"
      ]
     },
     "metadata": {
      "needs_background": "light"
     },
     "output_type": "display_data"
    }
   ],
   "source": [
    "image = x[0,].reshape(8,8)\n",
    "plt.imshow(image, cmap=\"binary_r\")"
   ]
  },
  {
   "cell_type": "code",
   "execution_count": 10,
   "metadata": {},
   "outputs": [
    {
     "data": {
      "text/plain": [
       "array([0, 1, 2, ..., 8, 9, 8])"
      ]
     },
     "execution_count": 10,
     "metadata": {},
     "output_type": "execute_result"
    }
   ],
   "source": [
    "t"
   ]
  },
  {
   "cell_type": "markdown",
   "metadata": {},
   "source": [
    "## 3.3 データの前処理"
   ]
  },
  {
   "cell_type": "code",
   "execution_count": 11,
   "metadata": {},
   "outputs": [
    {
     "data": {
      "text/plain": [
       "(1797, 64)"
      ]
     },
     "execution_count": 11,
     "metadata": {},
     "output_type": "execute_result"
    }
   ],
   "source": [
    "x.shape"
   ]
  },
  {
   "cell_type": "code",
   "execution_count": 12,
   "metadata": {},
   "outputs": [],
   "source": [
    "x = (x - np.average(x)) / np.std(x)"
   ]
  },
  {
   "cell_type": "code",
   "execution_count": 13,
   "metadata": {},
   "outputs": [],
   "source": [
    "t_zero = np.zeros((len(t), 10))\n",
    "for i in range(len(t_zero)):\n",
    "    t_zero[i, t[i]] = 1"
   ]
  },
  {
   "cell_type": "code",
   "execution_count": 14,
   "metadata": {},
   "outputs": [],
   "source": [
    "x_train, x_test, t_train, t_test = train_test_split(x, t_zero)"
   ]
  },
  {
   "cell_type": "code",
   "execution_count": 15,
   "metadata": {},
   "outputs": [
    {
     "data": {
      "text/plain": [
       "((1347, 64), (450, 64), (1347, 10), (450, 10))"
      ]
     },
     "execution_count": 15,
     "metadata": {},
     "output_type": "execute_result"
    }
   ],
   "source": [
    "x_train.shape, x_test.shape, t_train.shape, t_test.shape"
   ]
  },
  {
   "cell_type": "markdown",
   "metadata": {},
   "source": [
    "# 4 モデル"
   ]
  },
  {
   "cell_type": "code",
   "execution_count": 16,
   "metadata": {},
   "outputs": [],
   "source": [
    "class Optimizer:\n",
    "    def step(self, lr):\n",
    "        self.w -= lr * self.dw\n",
    "        self.b -= lr * self.db\n",
    "\n",
    "class Linear(Optimizer):\n",
    "    def __init__(self, x_n, y_n):\n",
    "        self.w = np.random.randn(x_n, y_n) * np.sqrt(2/x_n)\n",
    "        self.b = np.zeros(y_n)\n",
    "    def forward(self, x):\n",
    "        self.x = x\n",
    "        self.y = np.dot(x, self.w) + self.b\n",
    "        return self.y\n",
    "    def backward(self, dy):\n",
    "        self.dw = np.dot(self.x.T, dy)\n",
    "        self.db = np.sum(dy, axis=0)\n",
    "        self.dx = np.dot(dy, self.w.T)\n",
    "        return self.dx\n",
    "    \n",
    "class BatchNorm(Optimizer):\n",
    "    def __init__(self, n):\n",
    "        self.w = np.ones(n)\n",
    "        self.b = np.zeros(n)\n",
    "    def forward(self, x):\n",
    "        self.x = x\n",
    "        self.mu = np.mean(x, axis=0)\n",
    "        self.var = np.var(x, axis=0)\n",
    "        self.z = (x-self.mu)/np.sqrt(self.var + 1e-7)\n",
    "        self.y = self.w*self.z + self.b\n",
    "        return self.y\n",
    "    def backward(self, dy):\n",
    "        self.dw = np.sum(dy*self.z, axis=0)\n",
    "        self.db = np.sum(dy, axis=0)\n",
    "        dz = self.w * dy\n",
    "        dx = dz/np.sqrt(self.var + 1e-7)\n",
    "        dvar = 2*(self.x-self.mu)/len(dy)* -0.5 / \\\n",
    "                (np.sqrt(self.var + 1e-7)**3) *\\\n",
    "                np.sum((self.x-self.mu)*dz, axis=0)\n",
    "        dmu = -np.sum(dx + dvar, axis=0)/len(dy)\n",
    "        self.dx = dx + dvar + dmu\n",
    "        return self.dx    \n",
    "    \n",
    "class Relu:\n",
    "    def forward(self, x):\n",
    "        self.x = x\n",
    "        y = np.where(self.x <= 0, 0, self.x)\n",
    "        return y\n",
    "    def backward(self, dy):\n",
    "        dx =dy * np.where(self.x <= 0, 0, 1)\n",
    "        return dx\n",
    "    \n",
    "class CELoss:\n",
    "    def forward(self, x, t):\n",
    "        self.t = t\n",
    "        self.y = np.exp(x)/np.sum(np.exp(x), axis=1, keepdims=True) \n",
    "        L = -np.sum(t*np.log(self.y+1e-7)) / len(self.y)\n",
    "        return L\n",
    "    def backward(self):\n",
    "        dx = self.y - self.t\n",
    "        return dx"
   ]
  },
  {
   "cell_type": "code",
   "execution_count": 17,
   "metadata": {},
   "outputs": [],
   "source": [
    "layer1 = Linear(64,32)\n",
    "bn = BatchNorm(32)\n",
    "relu = Relu()\n",
    "layer2 = Linear(32,10)\n",
    "celoss = CELoss()\n",
    "def model(x):\n",
    "    y1 = layer1.forward(x)\n",
    "    y2 = bn.forward(y1)\n",
    "    y3 = relu.forward(y2)\n",
    "    y4 = layer2.forward(y3)\n",
    "    return y4\n",
    "def loss(y, t):\n",
    "    L = celoss.forward(y, t)\n",
    "    return L\n",
    "def backward():\n",
    "    dy4 = celoss.backward()\n",
    "    dy3 = layer2.backward(dy4)\n",
    "    dy2 = relu.backward(dy3)\n",
    "    dy1 = bn.backward(dy2)\n",
    "    layer1.backward(dy1)\n",
    "def optimizer(lr):\n",
    "    layer1.step(lr)\n",
    "    bn.step(lr)\n",
    "    layer2.step(lr)"
   ]
  },
  {
   "cell_type": "markdown",
   "metadata": {},
   "source": [
    "# 5 モデルの学習"
   ]
  },
  {
   "cell_type": "code",
   "execution_count": 18,
   "metadata": {},
   "outputs": [
    {
     "name": "stdout",
     "output_type": "stream",
     "text": [
      "Epoch 1, loss_train 1.4172, loss_test 1.3825\n",
      "Epoch 20, loss_train 0.1185, loss_test 0.1430\n",
      "Epoch 40, loss_train 0.0564, loss_test 0.0897\n",
      "Epoch 60, loss_train 0.0348, loss_test 0.0750\n",
      "Epoch 80, loss_train 0.0227, loss_test 0.0662\n",
      "Epoch 100, loss_train 0.0158, loss_test 0.0629\n"
     ]
    }
   ],
   "source": [
    "batch_size = 10\n",
    "batch_n = len(x_train) // batch_size\n",
    "batch_index = np.arange(len(x_train))\n",
    "\n",
    "loss_train_all = []\n",
    "loss_test_all = []\n",
    "\n",
    "for epoch in range(1, 100 + 1):\n",
    "    \n",
    "    np.random.shuffle(batch_index)\n",
    "    \n",
    "    for n in range(batch_n):\n",
    "        \n",
    "        mb_index = batch_index[n*batch_size:(n+1)*batch_size]\n",
    "        y = model(x_train[mb_index])\n",
    "        loss_train = loss(y,t_train[mb_index])\n",
    "        backward()\n",
    "        optimizer(1e-3)\n",
    "    \n",
    "    y_train = model(x_train)\n",
    "    loss_train = loss(y_train ,t_train)\n",
    "    y_test = model(x_test)\n",
    "    loss_test = loss(y_test ,t_test)\n",
    "    \n",
    "    loss_train_all.append(loss_train)\n",
    "    loss_test_all.append(loss_test)\n",
    "    \n",
    "\n",
    "    if epoch == 1 or epoch % 20 == 0:\n",
    "        print(f\"Epoch {epoch}, loss_train {loss_train:.4f}, loss_test {loss_test:.4f}\")"
   ]
  },
  {
   "cell_type": "markdown",
   "metadata": {},
   "source": [
    "# 6 モデルの評価"
   ]
  },
  {
   "cell_type": "code",
   "execution_count": 19,
   "metadata": {},
   "outputs": [
    {
     "data": {
      "text/plain": [
       "<matplotlib.legend.Legend at 0x7fce10c66160>"
      ]
     },
     "execution_count": 19,
     "metadata": {},
     "output_type": "execute_result"
    },
    {
     "data": {
      "image/png": "[encoded data removed]",
      "text/plain": [
       "<Figure size 432x288 with 1 Axes>"
      ]
     },
     "metadata": {
      "needs_background": "light"
     },
     "output_type": "display_data"
    }
   ],
   "source": [
    "plt.plot(range(1,len(loss_train_all)+1), loss_train_all, label=\"train\")\n",
    "plt.plot(range(1,len(loss_test_all)+1), loss_test_all, label=\"test\")\n",
    "plt.legend()"
   ]
  },
  {
   "cell_type": "code",
   "execution_count": 20,
   "metadata": {},
   "outputs": [],
   "source": [
    "def accuracy(x,t):\n",
    "    acc = sum(model(x).argmax(axis=1) == t.argmax(axis=1))/len(t)\n",
    "    return acc"
   ]
  },
  {
   "cell_type": "code",
   "execution_count": 21,
   "metadata": {},
   "outputs": [
    {
     "name": "stdout",
     "output_type": "stream",
     "text": [
      "1.0 0.9911111111111112\n"
     ]
    }
   ],
   "source": [
    "print(accuracy(x_train,t_train), accuracy(x_test,t_test))"
   ]
  }
 ],
 "metadata": {
  "kernelspec": {
   "display_name": "Python 3",
   "language": "python",
   "name": "python3"
  },
  "language_info": {
   "codemirror_mode": {
    "name": "ipython",
    "version": 3
   },
   "file_extension": ".py",
   "mimetype": "text/x-python",
   "name": "python",
   "nbconvert_exporter": "python",
   "pygments_lexer": "ipython3",
   "version": "3.8.5"
  }
 },
 "nbformat": 4,
 "nbformat_minor": 4
}
