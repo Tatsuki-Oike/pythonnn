{
 "cells": [
  {
   "cell_type": "markdown",
   "metadata": {},
   "source": [
    "# 2 ライブラリと関数のクラス"
   ]
  },
  {
   "cell_type": "code",
   "execution_count": 1,
   "metadata": {},
   "outputs": [],
   "source": [
    "import numpy as np\n",
    "import matplotlib.pyplot as plt"
   ]
  },
  {
   "cell_type": "code",
   "execution_count": 2,
   "metadata": {},
   "outputs": [],
   "source": [
    "class Optimizer:\n",
    "    def step(self, lr):\n",
    "        self.w -= lr * self.dw\n",
    "        self.b -= lr * self.db"
   ]
  },
  {
   "cell_type": "code",
   "execution_count": 3,
   "metadata": {},
   "outputs": [],
   "source": [
    "class Linear(Optimizer):\n",
    "    \n",
    "    def __init__(self):\n",
    "        self.w = 2\n",
    "        self.b = 1\n",
    "        \n",
    "    def forward(self,x):\n",
    "        self.x = x\n",
    "        self.y = self.w*x + self.b\n",
    "        return self.y\n",
    "        \n",
    "    def backward(self, dy):\n",
    "        \n",
    "        self.dw = np.dot(dy, self.x)\n",
    "        self.db = dy.sum()"
   ]
  },
  {
   "cell_type": "code",
   "execution_count": 4,
   "metadata": {},
   "outputs": [],
   "source": [
    "class Loss:\n",
    "    \n",
    "    def forward(self, y, t):\n",
    "        self.y = y\n",
    "        self.t = t\n",
    "        L = sum((y-t)**2)/len(t)\n",
    "        return L\n",
    "        \n",
    "    def backward(self):\n",
    "        dy = 2*(self.y - self.t) / len(self.t)\n",
    "        return dy"
   ]
  },
  {
   "cell_type": "code",
   "execution_count": 5,
   "metadata": {},
   "outputs": [],
   "source": [
    "model = Linear()\n",
    "loss = Loss()"
   ]
  },
  {
   "cell_type": "markdown",
   "metadata": {},
   "source": [
    "# 3 順伝播"
   ]
  },
  {
   "cell_type": "code",
   "execution_count": 6,
   "metadata": {},
   "outputs": [],
   "source": [
    "x = np.array([1,2])\n",
    "t = np.array([5,8])"
   ]
  },
  {
   "cell_type": "code",
   "execution_count": 7,
   "metadata": {},
   "outputs": [
    {
     "name": "stdout",
     "output_type": "stream",
     "text": [
      "[3 5] 6.5\n"
     ]
    }
   ],
   "source": [
    "y = model.forward(x)\n",
    "L = loss.forward(y,t)\n",
    "print(y, L)"
   ]
  },
  {
   "cell_type": "markdown",
   "metadata": {},
   "source": [
    "# 4 逆伝播"
   ]
  },
  {
   "cell_type": "code",
   "execution_count": 8,
   "metadata": {},
   "outputs": [
    {
     "name": "stdout",
     "output_type": "stream",
     "text": [
      "[-2. -3.] -8.0 -5.0\n"
     ]
    }
   ],
   "source": [
    "dy = loss.backward()\n",
    "model.backward(dy)\n",
    "print(dy, model.dw, model.db)"
   ]
  },
  {
   "cell_type": "markdown",
   "metadata": {},
   "source": [
    "# 5 パラメータ更新"
   ]
  },
  {
   "cell_type": "code",
   "execution_count": 9,
   "metadata": {},
   "outputs": [
    {
     "name": "stdout",
     "output_type": "stream",
     "text": [
      "2.08 1.05\n"
     ]
    }
   ],
   "source": [
    "model.step(lr=1e-2)\n",
    "print(model.w, model.b)"
   ]
  },
  {
   "cell_type": "code",
   "execution_count": 10,
   "metadata": {},
   "outputs": [
    {
     "name": "stdout",
     "output_type": "stream",
     "text": [
      "3.146500162399439 1.7609462931097528\n"
     ]
    }
   ],
   "source": [
    "for i in range(100):\n",
    "    \n",
    "    y = model.forward(x)\n",
    "    L = loss.forward(y,t)\n",
    "    \n",
    "    dy = loss.backward()\n",
    "    model.backward(dy)\n",
    "    \n",
    "    model.step(lr=1e-2)\n",
    "    \n",
    "print(model.w, model.b)"
   ]
  }
 ],
 "metadata": {
  "kernelspec": {
   "display_name": "Python 3",
   "language": "python",
   "name": "python3"
  },
  "language_info": {
   "codemirror_mode": {
    "name": "ipython",
    "version": 3
   },
   "file_extension": ".py",
   "mimetype": "text/x-python",
   "name": "python",
   "nbconvert_exporter": "python",
   "pygments_lexer": "ipython3",
   "version": "3.8.5"
  }
 },
 "nbformat": 4,
 "nbformat_minor": 4
}
