{
 "cells": [
  {
   "cell_type": "markdown",
   "metadata": {},
   "source": [
    "# 2 ライブラリとデータの作成"
   ]
  },
  {
   "cell_type": "code",
   "execution_count": 1,
   "metadata": {},
   "outputs": [],
   "source": [
    "import numpy as np\n",
    "import matplotlib.pyplot as plt\n",
    "from sklearn.model_selection import train_test_split\n",
    "np.random.seed(1)"
   ]
  },
  {
   "cell_type": "code",
   "execution_count": 2,
   "metadata": {},
   "outputs": [],
   "source": [
    "x = np.random.normal(5, 1, 100)\n",
    "t = 3*x+ 2 + np.random.normal(0, 1, 100)\n",
    "# x = (x - x.mean())/x.std()\n",
    "# t = (t - t.mean())/t.std()"
   ]
  },
  {
   "cell_type": "code",
   "execution_count": 3,
   "metadata": {},
   "outputs": [
    {
     "name": "stdout",
     "output_type": "stream",
     "text": [
      "(75,) (25,) (75,) (25,)\n"
     ]
    }
   ],
   "source": [
    "x_train, x_test, t_train, t_test = train_test_split(x, t)\n",
    "print(x_train.shape, x_test.shape, t_train.shape, t_test.shape)"
   ]
  },
  {
   "cell_type": "code",
   "execution_count": 4,
   "metadata": {},
   "outputs": [
    {
     "data": {
      "text/plain": [
       "<matplotlib.collections.PathCollection at 0x7fb978101790>"
      ]
     },
     "execution_count": 4,
     "metadata": {},
     "output_type": "execute_result"
    },
    {
     "data": {
      "image/png": "[encoded data removed]",
      "text/plain": [
       "<Figure size 432x288 with 1 Axes>"
      ]
     },
     "metadata": {
      "needs_background": "light"
     },
     "output_type": "display_data"
    }
   ],
   "source": [
    "plt.scatter(x_train,t_train)"
   ]
  },
  {
   "cell_type": "markdown",
   "metadata": {},
   "source": [
    "# 3 モデル"
   ]
  },
  {
   "cell_type": "code",
   "execution_count": 5,
   "metadata": {},
   "outputs": [],
   "source": [
    "class Optimizer:\n",
    "    def step(self, lr):\n",
    "        self.w -= lr * self.dw\n",
    "        self.b -= lr * self.db\n",
    "        \n",
    "class Linear(Optimizer):\n",
    "    def __init__(self):\n",
    "        self.w = np.random.randn(1)\n",
    "        self.b = np.random.randn(1)\n",
    "    def forward(self,x):\n",
    "        self.x = x\n",
    "        self.y = self.w*x + self.b\n",
    "        return self.y\n",
    "    def backward(self, dy):\n",
    "        self.dw = np.dot(dy, self.x)\n",
    "        self.db = dy.sum()\n",
    "        \n",
    "class Loss:\n",
    "    def forward(self, y, t):\n",
    "        self.y = y\n",
    "        self.t = t\n",
    "        L = sum((y-t)**2)/len(t)\n",
    "        return L\n",
    "    def backward(self):\n",
    "        dy = 2*(self.y - self.t) / len(self.t)\n",
    "        return dy"
   ]
  },
  {
   "cell_type": "code",
   "execution_count": 6,
   "metadata": {},
   "outputs": [],
   "source": [
    "model_ob = Linear()\n",
    "loss_ob = Loss()\n",
    "def model(x):\n",
    "    y = model_ob.forward(x)\n",
    "    return y\n",
    "def loss(y,t):\n",
    "    L = loss_ob.forward(y,t)\n",
    "    return L\n",
    "def backward():\n",
    "    dy = loss_ob.backward()\n",
    "    model_ob.backward(dy)\n",
    "def optimizer(lr):\n",
    "    model_ob.step(lr)"
   ]
  },
  {
   "cell_type": "markdown",
   "metadata": {},
   "source": [
    "# 4 モデルの学習"
   ]
  },
  {
   "cell_type": "code",
   "execution_count": 7,
   "metadata": {},
   "outputs": [
    {
     "name": "stdout",
     "output_type": "stream",
     "text": [
      "Epoch 1, loss_train 207.6295, loss_test 209.9308\n",
      "Epoch 20, loss_train 0.8741, loss_test 0.9838\n",
      "Epoch 40, loss_train 0.8730, loss_test 0.9674\n",
      "Epoch 60, loss_train 0.8714, loss_test 0.9773\n",
      "Epoch 80, loss_train 0.8704, loss_test 0.9709\n",
      "Epoch 100, loss_train 0.8692, loss_test 0.9790\n"
     ]
    }
   ],
   "source": [
    "batch_size = 10\n",
    "batch_n = len(x_train) // batch_size\n",
    "batch_index = np.arange(len(x_train))\n",
    "\n",
    "loss_train_all = []\n",
    "loss_test_all = []\n",
    "\n",
    "for epoch in range(1, 100 + 1):\n",
    "    \n",
    "    np.random.shuffle(batch_index)\n",
    "    \n",
    "    for n in range(batch_n):\n",
    "        \n",
    "        mb_index = batch_index[n*batch_size:(n+1)*batch_size]\n",
    "        y = model(x_train[mb_index])\n",
    "        loss_train = loss(y,t_train[mb_index])\n",
    "        backward()\n",
    "        optimizer(1e-3)\n",
    "    \n",
    "    y_train = model(x_train)\n",
    "    loss_train = loss(y_train ,t_train)\n",
    "    y_test = model(x_test)\n",
    "    loss_test = loss(y_test ,t_test)\n",
    "    \n",
    "    loss_train_all.append(loss_train)\n",
    "    loss_test_all.append(loss_test)\n",
    "    \n",
    "    if epoch == 1 or epoch % 20 == 0:\n",
    "        print(f\"Epoch {epoch}, loss_train {loss_train:.4f}, loss_test {loss_test:.4f}\")"
   ]
  },
  {
   "cell_type": "markdown",
   "metadata": {},
   "source": [
    "# 5 結果の可視化"
   ]
  },
  {
   "cell_type": "code",
   "execution_count": 8,
   "metadata": {},
   "outputs": [
    {
     "data": {
      "text/plain": [
       "<matplotlib.legend.Legend at 0x7fb978138d30>"
      ]
     },
     "execution_count": 8,
     "metadata": {},
     "output_type": "execute_result"
    },
    {
     "data": {
      "image/png": "[encoded data removed]",
      "text/plain": [
       "<Figure size 432x288 with 1 Axes>"
      ]
     },
     "metadata": {
      "needs_background": "light"
     },
     "output_type": "display_data"
    }
   ],
   "source": [
    "plt.plot(range(1,len(loss_train_all)+1), loss_train_all, label=\"train\")\n",
    "plt.plot(range(1,len(loss_test_all)+1), loss_test_all, label=\"test\")\n",
    "plt.legend()"
   ]
  },
  {
   "cell_type": "code",
   "execution_count": 9,
   "metadata": {},
   "outputs": [
    {
     "data": {
      "text/plain": [
       "<matplotlib.collections.PathCollection at 0x7fb97816ca30>"
      ]
     },
     "execution_count": 9,
     "metadata": {},
     "output_type": "execute_result"
    },
    {
     "data": {
      "image/png": "[encoded data removed]",
      "text/plain": [
       "<Figure size 432x288 with 1 Axes>"
      ]
     },
     "metadata": {
      "needs_background": "light"
     },
     "output_type": "display_data"
    }
   ],
   "source": [
    "x = np.arange(2,9)\n",
    "y = model(x)\n",
    "plt.plot(x,y, color=\"black\")\n",
    "plt.scatter(x_train,t_train)"
   ]
  }
 ],
 "metadata": {
  "kernelspec": {
   "display_name": "Python 3",
   "language": "python",
   "name": "python3"
  },
  "language_info": {
   "codemirror_mode": {
    "name": "ipython",
    "version": 3
   },
   "file_extension": ".py",
   "mimetype": "text/x-python",
   "name": "python",
   "nbconvert_exporter": "python",
   "pygments_lexer": "ipython3",
   "version": "3.8.5"
  }
 },
 "nbformat": 4,
 "nbformat_minor": 4
}
