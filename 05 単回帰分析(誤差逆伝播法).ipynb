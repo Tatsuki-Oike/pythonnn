{
 "cells": [
  {
   "cell_type": "code",
   "execution_count": 1,
   "metadata": {},
   "outputs": [],
   "source": [
    "import numpy as np\n",
    "import matplotlib.pyplot as plt"
   ]
  },
  {
   "cell_type": "markdown",
   "metadata": {},
   "source": [
    "# 1 合成関数の微分"
   ]
  },
  {
   "cell_type": "markdown",
   "metadata": {},
   "source": [
    "## 1.2 関数のクラス"
   ]
  },
  {
   "cell_type": "code",
   "execution_count": 2,
   "metadata": {},
   "outputs": [],
   "source": [
    "class Square:\n",
    "    \n",
    "    def forward(self, x):\n",
    "        self.x = x\n",
    "        y = x**2\n",
    "        return y\n",
    "    \n",
    "    def backward(self, dy):\n",
    "        self.dx = dy * 2 * self.x\n",
    "        return self.dx"
   ]
  },
  {
   "cell_type": "code",
   "execution_count": 3,
   "metadata": {},
   "outputs": [],
   "source": [
    "class Log:\n",
    "    \n",
    "    def forward(self, x):\n",
    "        self.x = x\n",
    "        y = np.log(x)\n",
    "        return y\n",
    "    \n",
    "    def backward(self, dy):\n",
    "        self.dx = dy * 1/self.x\n",
    "        return self.dx"
   ]
  },
  {
   "cell_type": "code",
   "execution_count": 4,
   "metadata": {},
   "outputs": [],
   "source": [
    "square1 = Square()\n",
    "log = Log()\n",
    "square2 = Square()"
   ]
  },
  {
   "cell_type": "markdown",
   "metadata": {},
   "source": [
    "## 1.3 順伝播"
   ]
  },
  {
   "cell_type": "code",
   "execution_count": 5,
   "metadata": {},
   "outputs": [],
   "source": [
    "x = 2"
   ]
  },
  {
   "cell_type": "code",
   "execution_count": 6,
   "metadata": {},
   "outputs": [
    {
     "name": "stdout",
     "output_type": "stream",
     "text": [
      "4 1.3862943611198906 1.9218120556728056\n",
      "4 1.3862943611198906 1.9218120556728056\n"
     ]
    }
   ],
   "source": [
    "y1 = square1.forward(x)\n",
    "y2 = log.forward(y1)\n",
    "y3 = square2.forward(y2)\n",
    "print(y1, y2, y3)\n",
    "print(x**2, np.log(x**2), (np.log(x**2))**2)"
   ]
  },
  {
   "cell_type": "markdown",
   "metadata": {},
   "source": [
    "## 1.4 逆伝播"
   ]
  },
  {
   "cell_type": "code",
   "execution_count": 7,
   "metadata": {},
   "outputs": [
    {
     "name": "stdout",
     "output_type": "stream",
     "text": [
      "2.772588722239781 0.6931471805599453 2.772588722239781\n",
      "2.772588722239781 0.6931471805599453 2.772588722239781\n"
     ]
    }
   ],
   "source": [
    "dy2 = square2.backward(1)\n",
    "dy1 = log.backward(dy2)\n",
    "dx = square1.backward(dy1)\n",
    "print(dy2, dy1, dx)\n",
    "print(2*y2, 2*y2 * 1/y1, 2*y2 * 1/y1 * 2*x )"
   ]
  },
  {
   "cell_type": "markdown",
   "metadata": {},
   "source": [
    "# 2 単回帰分析の誤差逆伝播法"
   ]
  },
  {
   "cell_type": "markdown",
   "metadata": {},
   "source": [
    "## 2.2 関数のクラス"
   ]
  },
  {
   "cell_type": "code",
   "execution_count": 8,
   "metadata": {},
   "outputs": [],
   "source": [
    "class Linear:\n",
    "    \n",
    "    def __init__(self):\n",
    "        self.w = 2\n",
    "        self.b = 1\n",
    "        \n",
    "    def forward(self,x):\n",
    "        self.x = x\n",
    "        y = self.w*x + self.b\n",
    "        return y\n",
    "        \n",
    "    def backward(self, dy):\n",
    "        \n",
    "        self.dw = np.dot(dy, self.x)\n",
    "        self.db = dy.sum()"
   ]
  },
  {
   "cell_type": "code",
   "execution_count": 9,
   "metadata": {},
   "outputs": [],
   "source": [
    "class Loss:\n",
    "    \n",
    "    def forward(self, y, t):\n",
    "        self.y = y\n",
    "        self.t = t\n",
    "        L = sum((y-t)**2)/len(t)\n",
    "        return L\n",
    "        \n",
    "    def backward(self):\n",
    "        dy = 2*(self.y - self.t) / len(self.t)\n",
    "        return dy"
   ]
  },
  {
   "cell_type": "code",
   "execution_count": 10,
   "metadata": {},
   "outputs": [],
   "source": [
    "model = Linear()\n",
    "loss = Loss()"
   ]
  },
  {
   "cell_type": "markdown",
   "metadata": {},
   "source": [
    "## 2.3 順伝播"
   ]
  },
  {
   "cell_type": "code",
   "execution_count": 11,
   "metadata": {},
   "outputs": [],
   "source": [
    "x = np.array([1,2])\n",
    "t = np.array([5,8])"
   ]
  },
  {
   "cell_type": "code",
   "execution_count": 12,
   "metadata": {},
   "outputs": [
    {
     "name": "stdout",
     "output_type": "stream",
     "text": [
      "[3 5] 6.5\n"
     ]
    }
   ],
   "source": [
    "y = model.forward(x)\n",
    "L = loss.forward(y,t)\n",
    "print(y, L)"
   ]
  },
  {
   "cell_type": "markdown",
   "metadata": {},
   "source": [
    "# 2.4 逆伝播"
   ]
  },
  {
   "cell_type": "code",
   "execution_count": 13,
   "metadata": {},
   "outputs": [
    {
     "name": "stdout",
     "output_type": "stream",
     "text": [
      "[-2. -3.] -8.0 -5.0\n"
     ]
    }
   ],
   "source": [
    "dy = loss.backward()\n",
    "model.backward(dy)\n",
    "print(dy, model.dw, model.db)"
   ]
  }
 ],
 "metadata": {
  "kernelspec": {
   "display_name": "Python 3",
   "language": "python",
   "name": "python3"
  },
  "language_info": {
   "codemirror_mode": {
    "name": "ipython",
    "version": 3
   },
   "file_extension": ".py",
   "mimetype": "text/x-python",
   "name": "python",
   "nbconvert_exporter": "python",
   "pygments_lexer": "ipython3",
   "version": "3.8.5"
  }
 },
 "nbformat": 4,
 "nbformat_minor": 4
}
